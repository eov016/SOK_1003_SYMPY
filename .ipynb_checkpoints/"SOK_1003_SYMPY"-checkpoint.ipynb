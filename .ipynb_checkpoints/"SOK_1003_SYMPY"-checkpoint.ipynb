{
 "cells": [
  {
   "cell_type": "markdown",
   "id": "877f81c4-2bf0-4179-a299-5f550706e4ed",
   "metadata": {},
   "source": [
    "Likningssett (innsettingssmetoden)\n",
    "OPPGAVE 15\n",
    "a)"
   ]
  },
  {
   "cell_type": "code",
   "execution_count": 1,
   "id": "a581f50a-332b-4c6e-9154-219a6a97f896",
   "metadata": {},
   "outputs": [],
   "source": [
    "import sympy as sp\n",
    "from sympy.solvers import solve\n",
    "x, y = sp.symbols(\"x y\")\n",
    "import numpy as np\n"
   ]
  },
  {
   "cell_type": "code",
   "execution_count": 2,
   "id": "f29ed385-2034-4102-9a82-4765cc101d93",
   "metadata": {},
   "outputs": [
    {
     "data": {
      "text/latex": [
       "$\\displaystyle 2 x + 4 y = 6$"
      ],
      "text/plain": [
       "Eq(2*x + 4*y, 6)"
      ]
     },
     "execution_count": 2,
     "metadata": {},
     "output_type": "execute_result"
    }
   ],
   "source": [
    "eq1=sp.Eq(2*x+4*y, 6)\n",
    "eq1"
   ]
  },
  {
   "cell_type": "code",
   "execution_count": 3,
   "id": "219ebf28-d664-40d9-9255-ddabdd5baff0",
   "metadata": {},
   "outputs": [
    {
     "data": {
      "text/latex": [
       "$\\displaystyle - 2 x + y = 4$"
      ],
      "text/plain": [
       "Eq(-2*x + y, 4)"
      ]
     },
     "execution_count": 3,
     "metadata": {},
     "output_type": "execute_result"
    }
   ],
   "source": [
    "eq2=sp.Eq(-2*x+y, 4)\n",
    "eq2"
   ]
  },
  {
   "cell_type": "code",
   "execution_count": 60,
   "id": "d7cadf0d-8c50-4aa8-850b-ffec13bc051f",
   "metadata": {},
   "outputs": [
    {
     "data": {
      "text/plain": [
       "{x: -1, y: 2}"
      ]
     },
     "execution_count": 60,
     "metadata": {},
     "output_type": "execute_result"
    }
   ],
   "source": [
    "sol= solve([eq1,eq2], [x,y])\n",
    "sol"
   ]
  },
  {
   "cell_type": "code",
   "execution_count": 61,
   "id": "d38c9445-3b57-40d1-807f-15ab4a68eb27",
   "metadata": {},
   "outputs": [
    {
     "name": "stdout",
     "output_type": "stream",
     "text": [
      "riktig\n"
     ]
    },
    {
     "data": {
      "text/plain": [
       "(0, 0)"
      ]
     },
     "execution_count": 61,
     "metadata": {},
     "output_type": "execute_result"
    }
   ],
   "source": [
    "def pro(x, y):\n",
    "    eq_p1=(2*x+4*y -6)\n",
    "    eq_p2=(-2*x+y -4)\n",
    "    if eq_p1== 0:\n",
    "        print(\"riktig\")\n",
    "    else:\n",
    "        print(\"prøv igjen\")\n",
    "    return eq_p1,eq_p2\n",
    "sol\n",
    "pro(-1, 2)"
   ]
  },
  {
   "cell_type": "markdown",
   "id": "86fed681-c988-40a8-a90c-389e7e90dc97",
   "metadata": {},
   "source": [
    "b)"
   ]
  },
  {
   "cell_type": "code",
   "execution_count": 62,
   "id": "b5db4ac0-c984-44f8-8311-f4654328e1dd",
   "metadata": {},
   "outputs": [
    {
     "data": {
      "text/latex": [
       "$\\displaystyle 2 x - y = -1$"
      ],
      "text/plain": [
       "Eq(2*x - y, -1)"
      ]
     },
     "execution_count": 62,
     "metadata": {},
     "output_type": "execute_result"
    }
   ],
   "source": [
    "eq3=sp.Eq(2*x-y, -1)\n",
    "eq3"
   ]
  },
  {
   "cell_type": "code",
   "execution_count": 63,
   "id": "20ab816c-9e80-4afb-bbe4-2a7f03f18be5",
   "metadata": {},
   "outputs": [
    {
     "data": {
      "text/latex": [
       "$\\displaystyle x^{2} + x - y = 1$"
      ],
      "text/plain": [
       "Eq(x**2 + x - y, 1)"
      ]
     },
     "execution_count": 63,
     "metadata": {},
     "output_type": "execute_result"
    }
   ],
   "source": [
    "eq4=sp.Eq(x**2+x-y, 1)\n",
    "eq4"
   ]
  },
  {
   "cell_type": "code",
   "execution_count": 64,
   "id": "b6be8e63-5e00-41a2-83a6-65be7dacfa0e",
   "metadata": {},
   "outputs": [
    {
     "data": {
      "text/plain": [
       "[(-1, -1), (2, 5)]"
      ]
     },
     "execution_count": 64,
     "metadata": {},
     "output_type": "execute_result"
    }
   ],
   "source": [
    "sol=solve([eq3,eq4], [x,y])\n",
    "sol"
   ]
  },
  {
   "cell_type": "code",
   "execution_count": 65,
   "id": "61a14559-0612-4fd8-89f2-8044c4279d31",
   "metadata": {},
   "outputs": [
    {
     "name": "stdout",
     "output_type": "stream",
     "text": [
      "riktig\n"
     ]
    },
    {
     "data": {
      "text/plain": [
       "(0, 0)"
      ]
     },
     "execution_count": 65,
     "metadata": {},
     "output_type": "execute_result"
    }
   ],
   "source": [
    "def pro(x, y):\n",
    "    eq_p3=(2*x-y +1)\n",
    "    eq_p4=(x**2+x-y -1)\n",
    "    if eq_p3== 0:\n",
    "        print(\"riktig\")\n",
    "    else:\n",
    "        print(\"prøv igjen\")\n",
    "    return eq_p3,eq_p4\n",
    "sol\n",
    "pro(-1, -1)"
   ]
  },
  {
   "cell_type": "markdown",
   "id": "3a88fb6e-12c1-4bbb-83a2-b2f9bd071c21",
   "metadata": {},
   "source": [
    "OPPGAVE 2\n",
    "a)"
   ]
  },
  {
   "cell_type": "code",
   "execution_count": 66,
   "id": "7077e0a6-8772-4261-8658-0fe707b5806f",
   "metadata": {},
   "outputs": [
    {
     "data": {
      "text/latex": [
       "$\\displaystyle 3 x - 12 = - 6 y$"
      ],
      "text/plain": [
       "Eq(3*x - 12, -6*y)"
      ]
     },
     "execution_count": 66,
     "metadata": {},
     "output_type": "execute_result"
    }
   ],
   "source": [
    "eq5=sp.Eq(3*x-12, -6*y)\n",
    "eq5"
   ]
  },
  {
   "cell_type": "code",
   "execution_count": 67,
   "id": "c3a902b2-2102-4422-8ec3-18a22dc5c8a0",
   "metadata": {},
   "outputs": [
    {
     "data": {
      "text/latex": [
       "$\\displaystyle 4 x - 8 y = 16$"
      ],
      "text/plain": [
       "Eq(4*x - 8*y, 16)"
      ]
     },
     "execution_count": 67,
     "metadata": {},
     "output_type": "execute_result"
    }
   ],
   "source": [
    "eq6=sp.Eq(4*x-8*y, 16)\n",
    "eq6\n"
   ]
  },
  {
   "cell_type": "code",
   "execution_count": 68,
   "id": "474f614e-c791-431a-8dca-7f5415f5099b",
   "metadata": {},
   "outputs": [
    {
     "data": {
      "text/plain": [
       "{x: 4, y: 0}"
      ]
     },
     "execution_count": 68,
     "metadata": {},
     "output_type": "execute_result"
    }
   ],
   "source": [
    "sol=solve([eq5,eq6], [x,y])\n",
    "sol"
   ]
  },
  {
   "cell_type": "code",
   "execution_count": 69,
   "id": "7797b119-0e26-44c9-8598-b8d14d6f3774",
   "metadata": {},
   "outputs": [
    {
     "name": "stdout",
     "output_type": "stream",
     "text": [
      "riktig\n"
     ]
    },
    {
     "data": {
      "text/plain": [
       "(0, 0)"
      ]
     },
     "execution_count": 69,
     "metadata": {},
     "output_type": "execute_result"
    }
   ],
   "source": [
    "def pro(x, y):\n",
    "    eq_p5=(3*x-12 -6*y)\n",
    "    eq_p6=(4*x-8*y -16)\n",
    "    if eq_p5== 0:\n",
    "        print(\"riktig\")\n",
    "    else:\n",
    "        print(\"prøv igjen\")\n",
    "    return eq_p5,eq_p6\n",
    "sol\n",
    "pro(4, 0)\n"
   ]
  },
  {
   "cell_type": "markdown",
   "id": "be96fc52-951b-4b5e-b52c-81a49cf82bde",
   "metadata": {},
   "source": [
    "b)"
   ]
  },
  {
   "cell_type": "code",
   "execution_count": 8,
   "id": "d1b04671-fd84-4f8d-8df9-3858669c6b16",
   "metadata": {},
   "outputs": [
    {
     "data": {
      "text/latex": [
       "$\\displaystyle x^{2} + 4 x - 3 = 3 y$"
      ],
      "text/plain": [
       "Eq(x**2 + 4*x - 3, 3*y)"
      ]
     },
     "execution_count": 8,
     "metadata": {},
     "output_type": "execute_result"
    }
   ],
   "source": [
    "eq7=sp.Eq(x**2 + 4*x -3, 3*y)\n",
    "eq7"
   ]
  },
  {
   "cell_type": "code",
   "execution_count": 9,
   "id": "e187a892-455e-43f6-8035-6bfcbb1dc671",
   "metadata": {},
   "outputs": [
    {
     "data": {
      "text/latex": [
       "$\\displaystyle 2 y = 8 - x$"
      ],
      "text/plain": [
       "Eq(2*y, 8 - x)"
      ]
     },
     "execution_count": 9,
     "metadata": {},
     "output_type": "execute_result"
    }
   ],
   "source": [
    "eq8=sp.Eq(2*y, 8-x)\n",
    "eq8"
   ]
  },
  {
   "cell_type": "code",
   "execution_count": 10,
   "id": "74cd3ea3-4160-4c3a-a3bc-1c29ee28f35b",
   "metadata": {},
   "outputs": [
    {
     "data": {
      "text/plain": [
       "[(-15/2, 31/4), (2, 3)]"
      ]
     },
     "execution_count": 10,
     "metadata": {},
     "output_type": "execute_result"
    }
   ],
   "source": [
    "sol=solve([eq7,eq8], [x,y])\n",
    "sol"
   ]
  },
  {
   "cell_type": "code",
   "execution_count": 12,
   "id": "e8f40a81-feb4-4c2e-b65a-d17683c3026c",
   "metadata": {},
   "outputs": [
    {
     "name": "stdout",
     "output_type": "stream",
     "text": [
      "riktig\n"
     ]
    },
    {
     "data": {
      "text/plain": [
       "(0, -4)"
      ]
     },
     "execution_count": 12,
     "metadata": {},
     "output_type": "execute_result"
    }
   ],
   "source": [
    "def pro(x, y):\n",
    "    eq_p7=(x**2 + 4*x -3 -3*y)\n",
    "    eq_p8=(2*y -8-x)\n",
    "    if eq_p7== 0:\n",
    "        print(\"riktig\")\n",
    "    else:\n",
    "        print(\"prøv igjen\")\n",
    "    return eq_p7,eq_p8\n",
    "sol\n",
    "pro(2, 3)"
   ]
  },
  {
   "cell_type": "markdown",
   "id": "923296b2-a2a7-48f6-bd4f-ce92ca64e17c",
   "metadata": {},
   "source": [
    "Likningssett (addisjonsmetoden)\n",
    "OPPGAVE 1\n",
    "a)"
   ]
  },
  {
   "cell_type": "code",
   "execution_count": 73,
   "id": "d9d5afd9-f3f8-4817-9368-33dae716484e",
   "metadata": {},
   "outputs": [
    {
     "data": {
      "text/latex": [
       "$\\displaystyle 4 x + 2 y = 12$"
      ],
      "text/plain": [
       "Eq(4*x + 2*y, 12)"
      ]
     },
     "execution_count": 73,
     "metadata": {},
     "output_type": "execute_result"
    }
   ],
   "source": [
    "eq1=sp.Eq(4*x+ 2*y, 12)\n",
    "eq1"
   ]
  },
  {
   "cell_type": "code",
   "execution_count": 74,
   "id": "923ad801-0d51-4dc6-9731-6ee9c2a8afe8",
   "metadata": {},
   "outputs": [
    {
     "data": {
      "text/latex": [
       "$\\displaystyle 6 x - 2 y = 8$"
      ],
      "text/plain": [
       "Eq(6*x - 2*y, 8)"
      ]
     },
     "execution_count": 74,
     "metadata": {},
     "output_type": "execute_result"
    }
   ],
   "source": [
    "eq2=sp.Eq(6*x-2*y, 8)\n",
    "eq2"
   ]
  },
  {
   "cell_type": "code",
   "execution_count": 75,
   "id": "1f7dd722-fb23-4226-b1cd-9b606e9f4a13",
   "metadata": {},
   "outputs": [
    {
     "data": {
      "text/plain": [
       "{x: 2, y: 2}"
      ]
     },
     "execution_count": 75,
     "metadata": {},
     "output_type": "execute_result"
    }
   ],
   "source": [
    "sol=solve([eq1,eq2], [x,y])\n",
    "sol"
   ]
  },
  {
   "cell_type": "code",
   "execution_count": 13,
   "id": "99b66a6c-21d9-4f86-bbe4-e112addcf46e",
   "metadata": {},
   "outputs": [
    {
     "name": "stdout",
     "output_type": "stream",
     "text": [
      "riktig\n"
     ]
    },
    {
     "data": {
      "text/plain": [
       "(0, 0)"
      ]
     },
     "execution_count": 13,
     "metadata": {},
     "output_type": "execute_result"
    }
   ],
   "source": [
    "def pro(x, y):\n",
    "    eq_p1=(4*x+ 2*y -12)\n",
    "    eq_p2=(6*x-2*y -8)\n",
    "    if eq_p1== 0:\n",
    "        print(\"riktig\")\n",
    "    else:\n",
    "        print(\"prøv igjen\")\n",
    "    return eq_p1,eq_p2\n",
    "sol\n",
    "pro(2, 2)"
   ]
  },
  {
   "cell_type": "markdown",
   "id": "71e29cca-9443-444b-8dca-a2bd95accd31",
   "metadata": {},
   "source": [
    "b)"
   ]
  },
  {
   "cell_type": "code",
   "execution_count": 76,
   "id": "9a90bb36-8854-4a52-b74c-7d467c39c463",
   "metadata": {},
   "outputs": [
    {
     "data": {
      "text/latex": [
       "$\\displaystyle 2 x + y^{2} = 25$"
      ],
      "text/plain": [
       "Eq(2*x + y**2, 25)"
      ]
     },
     "execution_count": 76,
     "metadata": {},
     "output_type": "execute_result"
    }
   ],
   "source": [
    "eq3=sp.Eq(2*x+y**2, 25)\n",
    "eq3"
   ]
  },
  {
   "cell_type": "code",
   "execution_count": 77,
   "id": "c786b5a7-edbc-46b6-a053-5dd9ca0d9103",
   "metadata": {},
   "outputs": [
    {
     "data": {
      "text/latex": [
       "$\\displaystyle x - 2 y = 10$"
      ],
      "text/plain": [
       "Eq(x - 2*y, 10)"
      ]
     },
     "execution_count": 77,
     "metadata": {},
     "output_type": "execute_result"
    }
   ],
   "source": [
    "eq4=sp.Eq(x-2*y, 10)\n",
    "eq4"
   ]
  },
  {
   "cell_type": "code",
   "execution_count": 78,
   "id": "d654a68b-b4f8-4aa8-8f5b-c1a30b257f79",
   "metadata": {},
   "outputs": [
    {
     "data": {
      "text/plain": [
       "[(0, -5), (12, 1)]"
      ]
     },
     "execution_count": 78,
     "metadata": {},
     "output_type": "execute_result"
    }
   ],
   "source": [
    "sol=solve([eq3,eq4], [x,y])\n",
    "sol"
   ]
  },
  {
   "cell_type": "code",
   "execution_count": 15,
   "id": "5a98b12d-32f3-4a45-b543-c69850f191b3",
   "metadata": {},
   "outputs": [
    {
     "name": "stdout",
     "output_type": "stream",
     "text": [
      "riktig\n"
     ]
    },
    {
     "data": {
      "text/plain": [
       "(0, 0)"
      ]
     },
     "execution_count": 15,
     "metadata": {},
     "output_type": "execute_result"
    }
   ],
   "source": [
    "def pro(x, y):\n",
    "    eq_p3=(2*x+y**2 -25)\n",
    "    eq_p4=(x-2*y -10)\n",
    "    if eq_p3== 0:\n",
    "        print(\"riktig\")\n",
    "    else:\n",
    "        print(\"prøv igjen\")\n",
    "    return eq_p3,eq_p4\n",
    "sol\n",
    "pro(0, -5)"
   ]
  },
  {
   "cell_type": "markdown",
   "id": "8c7e07f5-3d67-40c9-84d3-8ab41e89edc6",
   "metadata": {},
   "source": [
    "OPPGAVE 2 a)"
   ]
  },
  {
   "cell_type": "code",
   "execution_count": 79,
   "id": "01ea044a-bebc-48ce-a97b-cb83364e3309",
   "metadata": {},
   "outputs": [
    {
     "data": {
      "text/latex": [
       "$\\displaystyle 4 x - 4 y = 8$"
      ],
      "text/plain": [
       "Eq(4*x - 4*y, 8)"
      ]
     },
     "execution_count": 79,
     "metadata": {},
     "output_type": "execute_result"
    }
   ],
   "source": [
    "eq5=sp.Eq(4*x-4*y, 8)\n",
    "eq5"
   ]
  },
  {
   "cell_type": "code",
   "execution_count": 80,
   "id": "e76ff7b1-fd42-41dc-a141-c493f2627994",
   "metadata": {},
   "outputs": [
    {
     "data": {
      "text/latex": [
       "$\\displaystyle 9 x - 5 y = 26$"
      ],
      "text/plain": [
       "Eq(9*x - 5*y, 26)"
      ]
     },
     "execution_count": 80,
     "metadata": {},
     "output_type": "execute_result"
    }
   ],
   "source": [
    "eq6=sp.Eq(9*x-5*y, 26)\n",
    "eq6"
   ]
  },
  {
   "cell_type": "code",
   "execution_count": 81,
   "id": "c8ebb9bd-2acf-478f-b1eb-36d5b99f892b",
   "metadata": {},
   "outputs": [
    {
     "data": {
      "text/plain": [
       "{x: 4, y: 2}"
      ]
     },
     "execution_count": 81,
     "metadata": {},
     "output_type": "execute_result"
    }
   ],
   "source": [
    "sol=solve([eq5,eq6], [x,y])\n",
    "sol"
   ]
  },
  {
   "cell_type": "code",
   "execution_count": 16,
   "id": "5fd8e7a9-c3e4-4072-908f-caa017c370dc",
   "metadata": {},
   "outputs": [
    {
     "name": "stdout",
     "output_type": "stream",
     "text": [
      "riktig\n"
     ]
    },
    {
     "data": {
      "text/plain": [
       "(0, 0)"
      ]
     },
     "execution_count": 16,
     "metadata": {},
     "output_type": "execute_result"
    }
   ],
   "source": [
    "def pro(x, y):\n",
    "    eq_p5=(4*x-4*y -8)\n",
    "    eq_p6=(9*x-5*y -26)\n",
    "    if eq_p5== 0:\n",
    "        print(\"riktig\")\n",
    "    else:\n",
    "        print(\"prøv igjen\")\n",
    "    return eq_p5,eq_p6\n",
    "sol\n",
    "pro(4, 2)"
   ]
  },
  {
   "cell_type": "markdown",
   "id": "683f2cb4-f98f-4b2b-bd06-ddab9ea2e620",
   "metadata": {},
   "source": [
    "b)\n"
   ]
  },
  {
   "cell_type": "code",
   "execution_count": 82,
   "id": "c980fd12-9dcb-4a87-8b72-02cb98623852",
   "metadata": {},
   "outputs": [
    {
     "data": {
      "text/latex": [
       "$\\displaystyle x + 2 y^{2} = 15$"
      ],
      "text/plain": [
       "Eq(x + 2*y**2, 15)"
      ]
     },
     "execution_count": 82,
     "metadata": {},
     "output_type": "execute_result"
    }
   ],
   "source": [
    "eq7=sp.Eq(x+ 2*y**2, 15)\n",
    "eq7"
   ]
  },
  {
   "cell_type": "code",
   "execution_count": 83,
   "id": "0f10792f-576e-49b7-96cd-1bef8d171420",
   "metadata": {},
   "outputs": [
    {
     "data": {
      "text/latex": [
       "$\\displaystyle x^{2} - 4 y^{2} = 33$"
      ],
      "text/plain": [
       "Eq(x**2 - 4*y**2, 33)"
      ]
     },
     "execution_count": 83,
     "metadata": {},
     "output_type": "execute_result"
    }
   ],
   "source": [
    "eq8=sp.Eq(x**2-4*y**2, 33)\n",
    "eq8"
   ]
  },
  {
   "cell_type": "code",
   "execution_count": 85,
   "id": "3b1c3196-076b-4659-a643-89eb5cfd29dd",
   "metadata": {},
   "outputs": [
    {
     "data": {
      "text/plain": [
       "[(-9, -2*sqrt(3)), (-9, 2*sqrt(3)), (7, -2), (7, 2)]"
      ]
     },
     "metadata": {},
     "output_type": "display_data"
    }
   ],
   "source": [
    "sol=solve([eq7,eq8], [x,y])\n",
    "sol"
   ]
  },
  {
   "cell_type": "code",
   "execution_count": 18,
   "id": "d507a6c4-20ec-4b3b-8349-d808a5de61d8",
   "metadata": {},
   "outputs": [
    {
     "name": "stdout",
     "output_type": "stream",
     "text": [
      "riktig\n"
     ]
    },
    {
     "data": {
      "text/plain": [
       "(0, 0)"
      ]
     },
     "execution_count": 18,
     "metadata": {},
     "output_type": "execute_result"
    }
   ],
   "source": [
    "def pro(x, y):\n",
    "    eq_p7=(x+ 2*y**2 -15)\n",
    "    eq_p8=(x**2-4*y**2 -33)\n",
    "    if eq_p7== 0:\n",
    "        print(\"riktig\")\n",
    "    else:\n",
    "        print(\"prøv igjen\")\n",
    "    return eq_p7,eq_p8\n",
    "sol\n",
    "pro(7, -2)"
   ]
  },
  {
   "cell_type": "markdown",
   "id": "52bf7de1-afd7-4cf3-b144-4e20f9264f46",
   "metadata": {},
   "source": [
    "Likningssett (faktoriseringsmetoden) "
   ]
  },
  {
   "cell_type": "markdown",
   "id": "8ca93fef-0a02-4251-a7b7-053e01025731",
   "metadata": {},
   "source": [
    "OPPGAVE 1 a)"
   ]
  },
  {
   "cell_type": "code",
   "execution_count": 100,
   "id": "d456e039-8fa8-49aa-a832-4d4840664429",
   "metadata": {},
   "outputs": [
    {
     "data": {
      "text/latex": [
       "$\\displaystyle x y^{2} - x = 0$"
      ],
      "text/plain": [
       "Eq(x*y**2 - x, 0)"
      ]
     },
     "execution_count": 100,
     "metadata": {},
     "output_type": "execute_result"
    }
   ],
   "source": [
    "eq1=sp.Eq(x*y**2-x, 0)\n",
    "eq1"
   ]
  },
  {
   "cell_type": "code",
   "execution_count": 101,
   "id": "4c9070fc-e7ae-4817-bde6-82d88ef34145",
   "metadata": {},
   "outputs": [
    {
     "data": {
      "text/latex": [
       "$\\displaystyle x + y^{2} = 16$"
      ],
      "text/plain": [
       "Eq(x + y**2, 16)"
      ]
     },
     "execution_count": 101,
     "metadata": {},
     "output_type": "execute_result"
    }
   ],
   "source": [
    "eq2=sp.Eq(x+y**2, 16)\n",
    "eq2"
   ]
  },
  {
   "cell_type": "code",
   "execution_count": 102,
   "id": "99a2f9eb-c71f-4fab-aefd-35d98b7e4a25",
   "metadata": {},
   "outputs": [
    {
     "data": {
      "text/plain": [
       "[(0, -4), (0, 4), (15, -1), (15, 1)]"
      ]
     },
     "execution_count": 102,
     "metadata": {},
     "output_type": "execute_result"
    }
   ],
   "source": [
    "sol=solve([eq1,eq2], [x,y])\n",
    "sol"
   ]
  },
  {
   "cell_type": "code",
   "execution_count": 86,
   "id": "3252320a-f7c2-4536-b545-431e0f693e3d",
   "metadata": {},
   "outputs": [
    {
     "name": "stdout",
     "output_type": "stream",
     "text": [
      "riktig\n"
     ]
    },
    {
     "data": {
      "text/plain": [
       "(0, 0)"
      ]
     },
     "execution_count": 86,
     "metadata": {},
     "output_type": "execute_result"
    }
   ],
   "source": [
    "def pro(x, y):\n",
    "    eq_p1=(x*y**2-x)\n",
    "    eq_p2=(x+y**2 -16)\n",
    "    if eq_p1== 0:\n",
    "        print(\"riktig\")\n",
    "    else:\n",
    "        print(\"prøv igjen\")\n",
    "    return eq_p1,eq_p2\n",
    "sol\n",
    "pro(15, 1)\n",
    "        \n"
   ]
  },
  {
   "cell_type": "code",
   "execution_count": 90,
   "id": "9bad0ab5-471f-4657-bae0-e62282dea676",
   "metadata": {},
   "outputs": [
    {
     "name": "stdout",
     "output_type": "stream",
     "text": [
      "riktig\n"
     ]
    },
    {
     "data": {
      "text/plain": [
       "(0, 0)"
      ]
     },
     "execution_count": 90,
     "metadata": {},
     "output_type": "execute_result"
    }
   ],
   "source": [
    "def pro(x, y):\n",
    "    eq_p1=(x*y**2-x)\n",
    "    eq_p2=(x+y**2 -16)\n",
    "    if eq_p1== 0:\n",
    "        print(\"riktig\")\n",
    "    else:\n",
    "        print(\"prøv igjen\")\n",
    "    return eq_p1,eq_p2\n",
    "sol\n",
    "pro(0, -4)"
   ]
  },
  {
   "cell_type": "code",
   "execution_count": 91,
   "id": "c9cfb258-6711-4e6b-a81e-ca4d066695a3",
   "metadata": {},
   "outputs": [
    {
     "name": "stdout",
     "output_type": "stream",
     "text": [
      "riktig\n"
     ]
    },
    {
     "data": {
      "text/plain": [
       "(0, 0)"
      ]
     },
     "execution_count": 91,
     "metadata": {},
     "output_type": "execute_result"
    }
   ],
   "source": [
    "def pro(x, y):\n",
    "    eq_p1=(x*y**2-x)\n",
    "    eq_p2=(x+y**2 -16)\n",
    "    if eq_p1== 0:\n",
    "        print(\"riktig\")\n",
    "    else:\n",
    "        print(\"prøv igjen\")\n",
    "    return eq_p1,eq_p2\n",
    "sol\n",
    "pro(0, 4)"
   ]
  },
  {
   "cell_type": "code",
   "execution_count": 92,
   "id": "ff9f2698-627e-46c1-b96e-eb22f79e18fd",
   "metadata": {},
   "outputs": [
    {
     "name": "stdout",
     "output_type": "stream",
     "text": [
      "riktig\n"
     ]
    },
    {
     "data": {
      "text/plain": [
       "(0, 0)"
      ]
     },
     "execution_count": 92,
     "metadata": {},
     "output_type": "execute_result"
    }
   ],
   "source": [
    "def pro(x, y):\n",
    "    eq_p1=(x*y**2-x)\n",
    "    eq_p2=(x+y**2 -16)\n",
    "    if eq_p1== 0:\n",
    "        print(\"riktig\")\n",
    "    else:\n",
    "        print(\"prøv igjen\")\n",
    "    return eq_p1,eq_p2\n",
    "sol\n",
    "pro(15, -1)"
   ]
  },
  {
   "cell_type": "markdown",
   "id": "a9bc5d8f-d432-4431-ba6e-0be9831f0723",
   "metadata": {},
   "source": [
    "b)"
   ]
  },
  {
   "cell_type": "code",
   "execution_count": 104,
   "id": "7275e002-33db-48fb-bb10-138fc14af2e0",
   "metadata": {},
   "outputs": [
    {
     "data": {
      "text/latex": [
       "$\\displaystyle x^{2} + y^{2} = 100$"
      ],
      "text/plain": [
       "Eq(x**2 + y**2, 100)"
      ]
     },
     "execution_count": 104,
     "metadata": {},
     "output_type": "execute_result"
    }
   ],
   "source": [
    "eq3=sp.Eq(x**2+y**2, 100)\n",
    "eq3"
   ]
  },
  {
   "cell_type": "code",
   "execution_count": 105,
   "id": "972f2c8a-934d-40c8-9474-0a07554363b8",
   "metadata": {},
   "outputs": [
    {
     "data": {
      "text/latex": [
       "$\\displaystyle x^{2} y - 36 y = 0$"
      ],
      "text/plain": [
       "Eq(x**2*y - 36*y, 0)"
      ]
     },
     "execution_count": 105,
     "metadata": {},
     "output_type": "execute_result"
    }
   ],
   "source": [
    "eq4=sp.Eq(x**2*y-36*y, 0)\n",
    "eq4"
   ]
  },
  {
   "cell_type": "code",
   "execution_count": 106,
   "id": "5d542a97-6c8b-4eff-98c4-35f5a6fa53a7",
   "metadata": {},
   "outputs": [
    {
     "data": {
      "text/plain": [
       "[(-10, 0), (-6, -8), (-6, 8), (6, -8), (6, 8), (10, 0)]"
      ]
     },
     "execution_count": 106,
     "metadata": {},
     "output_type": "execute_result"
    }
   ],
   "source": [
    "sol=solve([eq3,eq4], [x,y])\n",
    "sol"
   ]
  },
  {
   "cell_type": "code",
   "execution_count": 19,
   "id": "ecd16569-f2c8-44e9-a062-d18cc6076ff3",
   "metadata": {},
   "outputs": [
    {
     "name": "stdout",
     "output_type": "stream",
     "text": [
      "riktig\n"
     ]
    },
    {
     "data": {
      "text/plain": [
       "(0, 0)"
      ]
     },
     "execution_count": 19,
     "metadata": {},
     "output_type": "execute_result"
    }
   ],
   "source": [
    "def pro(x, y):\n",
    "    eq_p3=(x**2+y**2 -100)\n",
    "    eq_p4=(x**2*y-36*y -0)\n",
    "    if eq_p3== 0:\n",
    "        print(\"riktig\")\n",
    "    else:\n",
    "        print(\"prøv igjen\")\n",
    "    return eq_p3,eq_p4\n",
    "sol\n",
    "pro(-10, 0)"
   ]
  },
  {
   "cell_type": "markdown",
   "id": "eebde6d6-4580-4381-bafa-62610b6efc0e",
   "metadata": {},
   "source": [
    "OPPGAVE 2 a)"
   ]
  },
  {
   "cell_type": "code",
   "execution_count": 110,
   "id": "0c724ab7-881c-48d6-b8a2-09a4fe47b078",
   "metadata": {},
   "outputs": [
    {
     "data": {
      "text/latex": [
       "$\\displaystyle x y^{2} - 49 x = 0$"
      ],
      "text/plain": [
       "Eq(x*y**2 - 49*x, 0)"
      ]
     },
     "execution_count": 110,
     "metadata": {},
     "output_type": "execute_result"
    }
   ],
   "source": [
    "eq5=sp.Eq(x*y**2-49*x, 0)\n",
    "eq5"
   ]
  },
  {
   "cell_type": "code",
   "execution_count": 112,
   "id": "42a36604-d183-46d7-a0fc-0c0fecce3119",
   "metadata": {},
   "outputs": [
    {
     "data": {
      "text/latex": [
       "$\\displaystyle x^{2} + y^{2} = 58$"
      ],
      "text/plain": [
       "Eq(x**2 + y**2, 58)"
      ]
     },
     "execution_count": 112,
     "metadata": {},
     "output_type": "execute_result"
    }
   ],
   "source": [
    "eq6=sp.Eq(x**2+y**2, 58)\n",
    "eq6"
   ]
  },
  {
   "cell_type": "code",
   "execution_count": 113,
   "id": "bf860585-53d3-4801-9355-355f2bcada1f",
   "metadata": {},
   "outputs": [
    {
     "data": {
      "text/plain": [
       "[(-3, -7), (-3, 7), (0, -sqrt(58)), (0, sqrt(58)), (3, -7), (3, 7)]"
      ]
     },
     "execution_count": 113,
     "metadata": {},
     "output_type": "execute_result"
    }
   ],
   "source": [
    "sol=solve([eq5,eq6], [x,y])\n",
    "sol"
   ]
  },
  {
   "cell_type": "code",
   "execution_count": 20,
   "id": "30d5e41d-1fde-421f-8ed3-fc006403a404",
   "metadata": {},
   "outputs": [
    {
     "name": "stdout",
     "output_type": "stream",
     "text": [
      "riktig\n"
     ]
    },
    {
     "data": {
      "text/plain": [
       "(0, 0)"
      ]
     },
     "execution_count": 20,
     "metadata": {},
     "output_type": "execute_result"
    }
   ],
   "source": [
    "def pro(x, y):\n",
    "    eq_p5=(x*y**2-49*x -0)\n",
    "    eq_p6=(x**2+y**2 -58)\n",
    "    if eq_p5== 0:\n",
    "        print(\"riktig\")\n",
    "    else:\n",
    "        print(\"prøv igjen\")\n",
    "    return eq_p5,eq_p6\n",
    "sol\n",
    "pro(-3, -7)"
   ]
  },
  {
   "cell_type": "markdown",
   "id": "e5c9badd-9b9b-4f73-9327-3ffaf7d5390c",
   "metadata": {},
   "source": [
    "b)"
   ]
  },
  {
   "cell_type": "code",
   "execution_count": 97,
   "id": "d86a79b0-b9a9-4c0d-8af9-a22fa1efd2f4",
   "metadata": {},
   "outputs": [
    {
     "data": {
      "text/latex": [
       "$\\displaystyle x^{2} + y^{2} = 1.25$"
      ],
      "text/plain": [
       "Eq(x**2 + y**2, 1.25)"
      ]
     },
     "execution_count": 97,
     "metadata": {},
     "output_type": "execute_result"
    }
   ],
   "source": [
    "eq7=sp.Eq(x**2+y**2, (5)/(4))\n",
    "eq7"
   ]
  },
  {
   "cell_type": "code",
   "execution_count": 98,
   "id": "10c44ab5-7f45-4043-8669-788f436785c1",
   "metadata": {},
   "outputs": [
    {
     "data": {
      "text/latex": [
       "$\\displaystyle 2 x y + y = 0$"
      ],
      "text/plain": [
       "Eq(2*x*y + y, 0)"
      ]
     },
     "execution_count": 98,
     "metadata": {},
     "output_type": "execute_result"
    }
   ],
   "source": [
    "eq8=sp.Eq(2*x*y+y, 0)\n",
    "eq8"
   ]
  },
  {
   "cell_type": "code",
   "execution_count": 99,
   "id": "8a9f00f1-f7e4-47ba-a6d6-819156d7aa89",
   "metadata": {},
   "outputs": [
    {
     "data": {
      "text/plain": [
       "[(-1.11803398874989, 0.0),\n",
       " (-0.500000000000000, -1.00000000000000),\n",
       " (-0.500000000000000, 1.00000000000000),\n",
       " (1.11803398874989, 0.0)]"
      ]
     },
     "metadata": {},
     "output_type": "display_data"
    }
   ],
   "source": [
    "sol=solve([eq7,eq8], [x,y])\n",
    "display(sol)"
   ]
  },
  {
   "cell_type": "code",
   "execution_count": 100,
   "id": "f3faa01c-fcd9-497e-ad3d-fd02e85aaa21",
   "metadata": {},
   "outputs": [
    {
     "name": "stdout",
     "output_type": "stream",
     "text": [
      "riktig\n"
     ]
    },
    {
     "data": {
      "text/plain": [
       "(2.4999999999999893, 0.0)"
      ]
     },
     "execution_count": 100,
     "metadata": {},
     "output_type": "execute_result"
    }
   ],
   "source": [
    "def pro(x, y):\n",
    "    eq_p7=(x**2+y**2 + 5/4)\n",
    "    eq_p8=(2*x*y+y)\n",
    "    if eq_p8== 0:\n",
    "        print(\"riktig\")\n",
    "    else:\n",
    "        print(\"prøv igjen\")\n",
    "    return eq_p7,eq_p8\n",
    "sol\n",
    "pro(-1.11803398874989, 0.0)"
   ]
  },
  {
   "cell_type": "markdown",
   "id": "1a55b19a-910c-4829-808b-0623086b1e70",
   "metadata": {},
   "source": [
    "19 Grunnleggende derivasjonsregler\n",
    "OPPGAVE 1 a)"
   ]
  },
  {
   "cell_type": "code",
   "execution_count": 2,
   "id": "28e82dc7-ae46-442a-a72a-ca5fce4ce897",
   "metadata": {},
   "outputs": [
    {
     "name": "stdout",
     "output_type": "stream",
     "text": [
      "\n"
     ]
    },
    {
     "name": "stdin",
     "output_type": "stream",
     "text": [
      " x**5\n"
     ]
    },
    {
     "data": {
      "text/latex": [
       "$\\displaystyle 5 x^{4}$"
      ],
      "text/plain": [
       "5*x**4"
      ]
     },
     "metadata": {},
     "output_type": "display_data"
    }
   ],
   "source": [
    "def derivative():\n",
    "    print()\n",
    "    exp = input()\n",
    "    result = sp.diff(exp)\n",
    "    display(result)\n",
    "\n",
    "derivative()\n",
    "\n",
    "\n",
    "\n"
   ]
  },
  {
   "cell_type": "markdown",
   "id": "ec81ea98-9c47-42ef-8312-71694ffb9ef4",
   "metadata": {},
   "source": [
    "b)"
   ]
  },
  {
   "cell_type": "code",
   "execution_count": 101,
   "id": "59ff1db3-8b35-480f-bc86-f4b8941cca25",
   "metadata": {},
   "outputs": [
    {
     "name": "stdout",
     "output_type": "stream",
     "text": [
      "\n"
     ]
    },
    {
     "name": "stdin",
     "output_type": "stream",
     "text": [
      " x + 12\n"
     ]
    },
    {
     "data": {
      "text/latex": [
       "$\\displaystyle 1$"
      ],
      "text/plain": [
       "1"
      ]
     },
     "metadata": {},
     "output_type": "display_data"
    }
   ],
   "source": [
    "derivative()"
   ]
  },
  {
   "cell_type": "markdown",
   "id": "f6547893-1c28-4552-8245-511b4774714e",
   "metadata": {},
   "source": [
    "c)"
   ]
  },
  {
   "cell_type": "code",
   "execution_count": 54,
   "id": "6a815343-5e2d-4aae-bd79-799d3a6be644",
   "metadata": {},
   "outputs": [
    {
     "name": "stdout",
     "output_type": "stream",
     "text": [
      "\n"
     ]
    },
    {
     "name": "stdin",
     "output_type": "stream",
     "text": [
      "  x**3 + 4*x**2\n"
     ]
    },
    {
     "data": {
      "text/latex": [
       "$\\displaystyle 3 x^{2} + 8 x$"
      ],
      "text/plain": [
       "3*x**2 + 8*x"
      ]
     },
     "metadata": {},
     "output_type": "display_data"
    }
   ],
   "source": [
    "derivative()"
   ]
  },
  {
   "cell_type": "markdown",
   "id": "16de1794-bc06-4941-bf1f-880f19f2dba7",
   "metadata": {},
   "source": [
    "d)"
   ]
  },
  {
   "cell_type": "code",
   "execution_count": 55,
   "id": "0ba34534-265e-4bc0-b0ea-a21690ed240c",
   "metadata": {},
   "outputs": [
    {
     "name": "stdout",
     "output_type": "stream",
     "text": [
      "\n"
     ]
    },
    {
     "name": "stdin",
     "output_type": "stream",
     "text": [
      " 2*x**3+36**(1/2)\n"
     ]
    },
    {
     "data": {
      "text/latex": [
       "$\\displaystyle 6 x^{2}$"
      ],
      "text/plain": [
       "6*x**2"
      ]
     },
     "metadata": {},
     "output_type": "display_data"
    }
   ],
   "source": [
    "derivative()"
   ]
  },
  {
   "cell_type": "markdown",
   "id": "ca8ddae3-b009-4270-b29b-d65334e8b4cf",
   "metadata": {},
   "source": [
    "e)"
   ]
  },
  {
   "cell_type": "code",
   "execution_count": 56,
   "id": "79e3b521-e776-4281-9275-184064a8ccf9",
   "metadata": {},
   "outputs": [
    {
     "name": "stdout",
     "output_type": "stream",
     "text": [
      "\n"
     ]
    },
    {
     "name": "stdin",
     "output_type": "stream",
     "text": [
      " x**(1/2) + 5**2\n"
     ]
    },
    {
     "data": {
      "text/latex": [
       "$\\displaystyle \\frac{1}{2 \\sqrt{x}}$"
      ],
      "text/plain": [
       "1/(2*sqrt(x))"
      ]
     },
     "metadata": {},
     "output_type": "display_data"
    }
   ],
   "source": [
    "derivative()"
   ]
  },
  {
   "cell_type": "markdown",
   "id": "bfa564ca-eee3-4925-a57e-17dba02a3a88",
   "metadata": {},
   "source": [
    "f)"
   ]
  },
  {
   "cell_type": "code",
   "execution_count": 57,
   "id": "a98c06d1-0348-4766-822a-4fd36198fc33",
   "metadata": {},
   "outputs": [
    {
     "name": "stdout",
     "output_type": "stream",
     "text": [
      "\n"
     ]
    },
    {
     "name": "stdin",
     "output_type": "stream",
     "text": [
      " x**3+1/x\n"
     ]
    },
    {
     "data": {
      "text/latex": [
       "$\\displaystyle 3 x^{2} - \\frac{1}{x^{2}}$"
      ],
      "text/plain": [
       "3*x**2 - 1/x**2"
      ]
     },
     "metadata": {},
     "output_type": "display_data"
    }
   ],
   "source": [
    "derivative()"
   ]
  },
  {
   "cell_type": "markdown",
   "id": "d16af3a4-3d34-4157-aa3d-513163fabfca",
   "metadata": {},
   "source": [
    "g)"
   ]
  },
  {
   "cell_type": "code",
   "execution_count": 58,
   "id": "e72664dc-ff0e-432b-acba-21b942f432cd",
   "metadata": {},
   "outputs": [
    {
     "name": "stdout",
     "output_type": "stream",
     "text": [
      "\n"
     ]
    },
    {
     "name": "stdin",
     "output_type": "stream",
     "text": [
      " x**3-x**2 + 1/4 *x\n"
     ]
    },
    {
     "data": {
      "text/latex": [
       "$\\displaystyle 3 x^{2} - 2 x + \\frac{1}{4}$"
      ],
      "text/plain": [
       "3*x**2 - 2*x + 1/4"
      ]
     },
     "metadata": {},
     "output_type": "display_data"
    }
   ],
   "source": [
    "derivative()"
   ]
  },
  {
   "cell_type": "markdown",
   "id": "f4b345cc-8c29-4df9-b5a3-6dbd4da702bf",
   "metadata": {},
   "source": [
    "OPPGAVE 2 a)"
   ]
  },
  {
   "cell_type": "code",
   "execution_count": 59,
   "id": "1c0d8ca3-aaf0-487b-b154-0e260ce8bfd6",
   "metadata": {},
   "outputs": [
    {
     "name": "stdout",
     "output_type": "stream",
     "text": [
      "\n"
     ]
    },
    {
     "name": "stdin",
     "output_type": "stream",
     "text": [
      " 1/x + 6*x**6\n"
     ]
    },
    {
     "data": {
      "text/latex": [
       "$\\displaystyle 36 x^{5} - \\frac{1}{x^{2}}$"
      ],
      "text/plain": [
       "36*x**5 - 1/x**2"
      ]
     },
     "metadata": {},
     "output_type": "display_data"
    }
   ],
   "source": [
    "derivative()"
   ]
  },
  {
   "cell_type": "markdown",
   "id": "3423b71e-a0b9-4ad5-b86a-f6305b30994d",
   "metadata": {},
   "source": [
    "b)"
   ]
  },
  {
   "cell_type": "code",
   "execution_count": 60,
   "id": "6c4dbb34-2fd4-493d-8415-24694da0fd7e",
   "metadata": {},
   "outputs": [
    {
     "name": "stdout",
     "output_type": "stream",
     "text": [
      "\n"
     ]
    },
    {
     "name": "stdin",
     "output_type": "stream",
     "text": [
      " -x + 1/2*x**3\n"
     ]
    },
    {
     "data": {
      "text/latex": [
       "$\\displaystyle \\frac{3 x^{2}}{2} - 1$"
      ],
      "text/plain": [
       "3*x**2/2 - 1"
      ]
     },
     "metadata": {},
     "output_type": "display_data"
    }
   ],
   "source": [
    "derivative()"
   ]
  },
  {
   "cell_type": "markdown",
   "id": "728521dc-614c-424c-b42b-f6ebd88cb44a",
   "metadata": {},
   "source": [
    "c)"
   ]
  },
  {
   "cell_type": "code",
   "execution_count": 5,
   "id": "9d44dfc8-532b-4368-9527-ef05ac3770c9",
   "metadata": {},
   "outputs": [
    {
     "data": {
      "text/latex": [
       "$\\displaystyle x^{2} + x \\left(2 x + 2\\right) + 2 x - 3$"
      ],
      "text/plain": [
       "x**2 + x*(2*x + 2) + 2*x - 3"
      ]
     },
     "metadata": {},
     "output_type": "display_data"
    },
    {
     "data": {
      "text/latex": [
       "$\\displaystyle 3 x^{2} + 4 x - 3$"
      ],
      "text/plain": [
       "3*x**2 + 4*x - 3"
      ]
     },
     "execution_count": 5,
     "metadata": {},
     "output_type": "execute_result"
    }
   ],
   "source": [
    "f=sp.diff(x*(x**2 + 2*x-3))\n",
    "display(f)\n",
    "sp.simplify(f)"
   ]
  },
  {
   "cell_type": "markdown",
   "id": "ed2f6449-b0df-4cd8-a472-b474c6810f76",
   "metadata": {},
   "source": [
    "20 Produkt- og brøkregelen\n",
    "OPPGAVE 1 e)"
   ]
  },
  {
   "cell_type": "code",
   "execution_count": 62,
   "id": "ccb63c85-806e-47bc-9736-096b3c33724d",
   "metadata": {},
   "outputs": [
    {
     "name": "stdout",
     "output_type": "stream",
     "text": [
      "\n"
     ]
    },
    {
     "name": "stdin",
     "output_type": "stream",
     "text": [
      " x**4*x**5\n"
     ]
    },
    {
     "data": {
      "text/latex": [
       "$\\displaystyle 9 x^{8}$"
      ],
      "text/plain": [
       "9*x**8"
      ]
     },
     "metadata": {},
     "output_type": "display_data"
    }
   ],
   "source": [
    "derivative()"
   ]
  },
  {
   "cell_type": "markdown",
   "id": "91b01e9c-26dc-4245-9986-68ce13b184ee",
   "metadata": {},
   "source": [
    "f)"
   ]
  },
  {
   "cell_type": "code",
   "execution_count": 63,
   "id": "db31a34a-812b-4498-9737-5b0e4e79196d",
   "metadata": {},
   "outputs": [
    {
     "name": "stdout",
     "output_type": "stream",
     "text": [
      "\n"
     ]
    },
    {
     "name": "stdin",
     "output_type": "stream",
     "text": [
      " x*x**(1/2)\n"
     ]
    },
    {
     "data": {
      "text/latex": [
       "$\\displaystyle \\frac{3 \\sqrt{x}}{2}$"
      ],
      "text/plain": [
       "3*sqrt(x)/2"
      ]
     },
     "metadata": {},
     "output_type": "display_data"
    }
   ],
   "source": [
    "derivative()"
   ]
  },
  {
   "cell_type": "markdown",
   "id": "5ed9354e-f195-4c03-8fa8-de185a78f0e3",
   "metadata": {},
   "source": [
    "g)"
   ]
  },
  {
   "cell_type": "code",
   "execution_count": 64,
   "id": "d49323e9-b7a0-41d6-a6d4-b4c116c6d162",
   "metadata": {},
   "outputs": [
    {
     "name": "stdout",
     "output_type": "stream",
     "text": [
      "\n"
     ]
    },
    {
     "name": "stdin",
     "output_type": "stream",
     "text": [
      " 2/x**3\n"
     ]
    },
    {
     "data": {
      "text/latex": [
       "$\\displaystyle - \\frac{6}{x^{4}}$"
      ],
      "text/plain": [
       "-6/x**4"
      ]
     },
     "metadata": {},
     "output_type": "display_data"
    }
   ],
   "source": [
    "derivative()"
   ]
  },
  {
   "cell_type": "markdown",
   "id": "b6484703-9a57-49ed-b8a6-f88c23d3d871",
   "metadata": {},
   "source": [
    "h)"
   ]
  },
  {
   "cell_type": "code",
   "execution_count": 6,
   "id": "6abfd67e-dd0c-464d-b231-99df31942dc7",
   "metadata": {},
   "outputs": [
    {
     "data": {
      "text/latex": [
       "$\\displaystyle - \\frac{1}{x^{2}} + \\frac{6}{x^{4}}$"
      ],
      "text/plain": [
       "-1/x**2 + 6/x**4"
      ]
     },
     "metadata": {},
     "output_type": "display_data"
    },
    {
     "data": {
      "text/latex": [
       "$\\displaystyle \\frac{6 - x^{2}}{x^{4}}$"
      ],
      "text/plain": [
       "(6 - x**2)/x**4"
      ]
     },
     "execution_count": 6,
     "metadata": {},
     "output_type": "execute_result"
    }
   ],
   "source": [
    "f=sp.diff(x**2/x**3 - 2/x**3)\n",
    "display(f)\n",
    "sp.simplify(f)"
   ]
  },
  {
   "cell_type": "markdown",
   "id": "f0415e19-5721-47d3-9682-819cb073677f",
   "metadata": {},
   "source": [
    "i)"
   ]
  },
  {
   "cell_type": "code",
   "execution_count": 66,
   "id": "922b3a72-72a4-4d64-91d4-c1abf4a8d943",
   "metadata": {},
   "outputs": [
    {
     "name": "stdout",
     "output_type": "stream",
     "text": [
      "\n"
     ]
    },
    {
     "name": "stdin",
     "output_type": "stream",
     "text": [
      " x**(1/2)*x**6\n"
     ]
    },
    {
     "data": {
      "text/latex": [
       "$\\displaystyle \\frac{13 x^{\\frac{11}{2}}}{2}$"
      ],
      "text/plain": [
       "13*x**(11/2)/2"
      ]
     },
     "metadata": {},
     "output_type": "display_data"
    }
   ],
   "source": [
    "derivative()"
   ]
  },
  {
   "cell_type": "code",
   "execution_count": null,
   "id": "8d393934-ac8e-44ae-a541-f1662b667cda",
   "metadata": {},
   "outputs": [],
   "source": []
  },
  {
   "cell_type": "markdown",
   "id": "d9e9e180-db15-4021-aa70-77bc2afbfc6f",
   "metadata": {},
   "source": [
    "j)"
   ]
  },
  {
   "cell_type": "code",
   "execution_count": 67,
   "id": "6bef0446-bc05-4f36-8296-0cd88e015139",
   "metadata": {},
   "outputs": [
    {
     "name": "stdout",
     "output_type": "stream",
     "text": [
      "\n"
     ]
    },
    {
     "name": "stdin",
     "output_type": "stream",
     "text": [
      " x*(x**2 + 1)\n"
     ]
    },
    {
     "data": {
      "text/latex": [
       "$\\displaystyle 3 x^{2} + 1$"
      ],
      "text/plain": [
       "3*x**2 + 1"
      ]
     },
     "metadata": {},
     "output_type": "display_data"
    }
   ],
   "source": [
    "derivative()"
   ]
  },
  {
   "cell_type": "markdown",
   "id": "97deb700-fcb8-40dd-b0d5-d899e22c7c88",
   "metadata": {},
   "source": [
    "k)"
   ]
  },
  {
   "cell_type": "code",
   "execution_count": 11,
   "id": "b37e653c-703a-47e8-b560-b0abc1fc0b7e",
   "metadata": {},
   "outputs": [
    {
     "data": {
      "text/latex": [
       "$\\displaystyle - \\frac{3 x^{2} \\left(x^{2} + 4\\right)}{\\left(x^{3} - 1\\right)^{2}} + \\frac{2 x}{x^{3} - 1}$"
      ],
      "text/plain": [
       "-3*x**2*(x**2 + 4)/(x**3 - 1)**2 + 2*x/(x**3 - 1)"
      ]
     },
     "metadata": {},
     "output_type": "display_data"
    }
   ],
   "source": [
    "f=sp.diff((x**2 + 4) / (x**3 - 1))\n",
    "display(f)\n",
    "\n"
   ]
  },
  {
   "cell_type": "markdown",
   "id": "76dd9f05-637e-4cbf-a3ac-6c4a4081b83b",
   "metadata": {},
   "source": [
    "l)"
   ]
  },
  {
   "cell_type": "code",
   "execution_count": 69,
   "id": "74101a87-20f1-4d9d-aec1-e10ffeb48b8b",
   "metadata": {},
   "outputs": [
    {
     "name": "stdout",
     "output_type": "stream",
     "text": [
      "\n"
     ]
    },
    {
     "name": "stdin",
     "output_type": "stream",
     "text": [
      " (x**2) / (x**2 + 2*x)\n"
     ]
    },
    {
     "data": {
      "text/latex": [
       "$\\displaystyle \\frac{x^{2} \\left(- 2 x - 2\\right)}{\\left(x^{2} + 2 x\\right)^{2}} + \\frac{2 x}{x^{2} + 2 x}$"
      ],
      "text/plain": [
       "x**2*(-2*x - 2)/(x**2 + 2*x)**2 + 2*x/(x**2 + 2*x)"
      ]
     },
     "metadata": {},
     "output_type": "display_data"
    }
   ],
   "source": [
    "derivative()"
   ]
  },
  {
   "cell_type": "markdown",
   "id": "d67bbf20-db3d-4c78-a451-920a63e8a82e",
   "metadata": {},
   "source": [
    "m)"
   ]
  },
  {
   "cell_type": "code",
   "execution_count": 15,
   "id": "0a8a969c-4cdd-4a51-923a-bc983c30d5d7",
   "metadata": {},
   "outputs": [
    {
     "data": {
      "text/latex": [
       "$\\displaystyle \\frac{2 x + 4}{x - 2} - \\frac{x^{2} + 4 x + 2}{\\left(x - 2\\right)^{2}}$"
      ],
      "text/plain": [
       "(2*x + 4)/(x - 2) - (x**2 + 4*x + 2)/(x - 2)**2"
      ]
     },
     "metadata": {},
     "output_type": "display_data"
    },
    {
     "data": {
      "text/latex": [
       "$\\displaystyle \\frac{x^{2} - 4 x - 10}{x^{2} - 4 x + 4}$"
      ],
      "text/plain": [
       "(x**2 - 4*x - 10)/(x**2 - 4*x + 4)"
      ]
     },
     "execution_count": 15,
     "metadata": {},
     "output_type": "execute_result"
    }
   ],
   "source": [
    "f=sp.diff((x**2 + 4*x + 2) / (x-2))\n",
    "display(f)\n",
    "sp.simplify(f)"
   ]
  },
  {
   "cell_type": "markdown",
   "id": "7e3b8653-5275-4078-968b-8c60d82e50a0",
   "metadata": {},
   "source": [
    "OPPGAVE 2 a)"
   ]
  },
  {
   "cell_type": "code",
   "execution_count": 33,
   "id": "c4b7cc28-3f14-4444-82b5-1d40c03ad3ee",
   "metadata": {},
   "outputs": [
    {
     "data": {
      "text/latex": [
       "$\\displaystyle - \\frac{2 x \\left(x^{3} - 2 x\\right)}{\\left(x^{2} - 1\\right)^{2}} + \\frac{3 x^{2} - 2}{x^{2} - 1}$"
      ],
      "text/plain": [
       "-2*x*(x**3 - 2*x)/(x**2 - 1)**2 + (3*x**2 - 2)/(x**2 - 1)"
      ]
     },
     "metadata": {},
     "output_type": "display_data"
    }
   ],
   "source": [
    "f=sp.diff((x**3 - 2*x) / (x**2-1)) \n",
    "display(f)\n",
    "\n"
   ]
  },
  {
   "cell_type": "markdown",
   "id": "cddcdc5c-4c05-4d6b-ad56-9e678f3a68d6",
   "metadata": {},
   "source": [
    "b)"
   ]
  },
  {
   "cell_type": "code",
   "execution_count": 34,
   "id": "641a816d-c96d-4c46-8cb3-5db13e97fcf2",
   "metadata": {},
   "outputs": [
    {
     "data": {
      "text/latex": [
       "$\\displaystyle 2 x \\left(x^{2} - 1\\right) + 2 x \\left(x^{2} + 1\\right)$"
      ],
      "text/plain": [
       "2*x*(x**2 - 1) + 2*x*(x**2 + 1)"
      ]
     },
     "metadata": {},
     "output_type": "display_data"
    },
    {
     "data": {
      "text/latex": [
       "$\\displaystyle 4 x^{3}$"
      ],
      "text/plain": [
       "4*x**3"
      ]
     },
     "execution_count": 34,
     "metadata": {},
     "output_type": "execute_result"
    }
   ],
   "source": [
    "f=sp.diff((x**2 + 1)*(x**2-1))\n",
    "display(f)\n",
    "sp.factor(f)"
   ]
  },
  {
   "cell_type": "markdown",
   "id": "554f99c8-a330-406e-9d80-83ea1f31c335",
   "metadata": {},
   "source": [
    "c)"
   ]
  },
  {
   "cell_type": "code",
   "execution_count": 36,
   "id": "48ec911a-e1a6-4897-97b3-321c68329730",
   "metadata": {},
   "outputs": [
    {
     "data": {
      "text/latex": [
       "$\\displaystyle - \\frac{3 x^{2} \\left(3 x - 4\\right)}{\\left(x^{3} + 7\\right)^{2}} + \\frac{3}{x^{3} + 7}$"
      ],
      "text/plain": [
       "-3*x**2*(3*x - 4)/(x**3 + 7)**2 + 3/(x**3 + 7)"
      ]
     },
     "metadata": {},
     "output_type": "display_data"
    },
    {
     "data": {
      "text/latex": [
       "$\\displaystyle - \\frac{3 \\left(2 x^{3} - 4 x^{2} - 7\\right)}{\\left(x^{3} + 7\\right)^{2}}$"
      ],
      "text/plain": [
       "-3*(2*x**3 - 4*x**2 - 7)/(x**3 + 7)**2"
      ]
     },
     "execution_count": 36,
     "metadata": {},
     "output_type": "execute_result"
    }
   ],
   "source": [
    "f=sp.diff((3*x-4) / (x**3 + 7))\n",
    "display(f)\n",
    "sp.factor(f)"
   ]
  },
  {
   "cell_type": "markdown",
   "id": "fd0a16fd-6ca8-4dfb-b0db-a972eeb55cdd",
   "metadata": {},
   "source": [
    "21 Kjerneregelen\n",
    "OPPGAVE 1 a)"
   ]
  },
  {
   "cell_type": "code",
   "execution_count": 48,
   "id": "fe9f1eaa-fad7-4a50-9215-9cc2679e6645",
   "metadata": {},
   "outputs": [
    {
     "data": {
      "text/latex": [
       "$\\displaystyle \\left(15 x^{2} + 30\\right) \\left(x^{3} + 6 x\\right)^{4}$"
      ],
      "text/plain": [
       "(15*x**2 + 30)*(x**3 + 6*x)**4"
      ]
     },
     "metadata": {},
     "output_type": "display_data"
    },
    {
     "data": {
      "text/latex": [
       "$\\displaystyle 15 x^{4} \\left(x^{2} + 2\\right) \\left(x^{2} + 6\\right)^{4}$"
      ],
      "text/plain": [
       "15*x**4*(x**2 + 2)*(x**2 + 6)**4"
      ]
     },
     "execution_count": 48,
     "metadata": {},
     "output_type": "execute_result"
    }
   ],
   "source": [
    "f=sp.diff((x**3 + 6*x)** (5))\n",
    "display(f)"
   ]
  },
  {
   "cell_type": "markdown",
   "id": "2cd90675-ba67-4fe3-af00-3bcabb3dbce3",
   "metadata": {},
   "source": [
    "b)"
   ]
  },
  {
   "cell_type": "code",
   "execution_count": 84,
   "id": "0356c24e-d23a-416d-ad66-01ceb131f7e7",
   "metadata": {},
   "outputs": [
    {
     "name": "stdout",
     "output_type": "stream",
     "text": [
      "\n"
     ]
    },
    {
     "name": "stdin",
     "output_type": "stream",
     "text": [
      " (2*x**2 + 5)**(1/2)\n"
     ]
    },
    {
     "data": {
      "text/latex": [
       "$\\displaystyle \\frac{2 x}{\\sqrt{2 x^{2} + 5}}$"
      ],
      "text/plain": [
       "2*x/sqrt(2*x**2 + 5)"
      ]
     },
     "metadata": {},
     "output_type": "display_data"
    }
   ],
   "source": [
    "derivative()"
   ]
  },
  {
   "cell_type": "markdown",
   "id": "40dd4188-8602-457e-9321-ce46a7cc9cdf",
   "metadata": {},
   "source": [
    "c)"
   ]
  },
  {
   "cell_type": "code",
   "execution_count": 161,
   "id": "b1670428-f7f0-4fc2-b836-966dac1c5f05",
   "metadata": {},
   "outputs": [
    {
     "name": "stdout",
     "output_type": "stream",
     "text": [
      "\n"
     ]
    },
    {
     "name": "stdin",
     "output_type": "stream",
     "text": [
      " ((2*x)/(x**2 + 3))**4\n"
     ]
    },
    {
     "data": {
      "text/latex": [
       "$\\displaystyle - \\frac{64 x^{3} \\left(x^{2} - 3\\right)}{\\left(x^{2} + 3\\right)^{5}}$"
      ],
      "text/plain": [
       "-64*x**3*(x**2 - 3)/(x**2 + 3)**5"
      ]
     },
     "metadata": {},
     "output_type": "display_data"
    }
   ],
   "source": [
    "derivative()"
   ]
  },
  {
   "cell_type": "markdown",
   "id": "0d4dd2f1-5315-4979-8268-6e28de17c217",
   "metadata": {},
   "source": [
    "d)"
   ]
  },
  {
   "cell_type": "code",
   "execution_count": 164,
   "id": "4ac0d0d9-be38-4144-afc8-4e1557cfdaea",
   "metadata": {},
   "outputs": [
    {
     "name": "stdout",
     "output_type": "stream",
     "text": [
      "\n"
     ]
    },
    {
     "name": "stdin",
     "output_type": "stream",
     "text": [
      " (2*x**4 + 9)**(3/2)\n"
     ]
    },
    {
     "data": {
      "text/latex": [
       "$\\displaystyle 12 x^{3} \\sqrt{2 x^{4} + 9}$"
      ],
      "text/plain": [
       "12*x**3*sqrt(2*x**4 + 9)"
      ]
     },
     "metadata": {},
     "output_type": "display_data"
    }
   ],
   "source": [
    "derivative()"
   ]
  },
  {
   "cell_type": "markdown",
   "id": "17104b2a-3f13-486c-8491-05be4d065c59",
   "metadata": {},
   "source": [
    "e)"
   ]
  },
  {
   "cell_type": "code",
   "execution_count": 87,
   "id": "b4356de8-9f32-4921-8d44-1c57dc68153a",
   "metadata": {},
   "outputs": [
    {
     "name": "stdout",
     "output_type": "stream",
     "text": [
      "\n"
     ]
    },
    {
     "name": "stdin",
     "output_type": "stream",
     "text": [
      " 1/ (1 + x**2)**(1/2)\n"
     ]
    },
    {
     "data": {
      "text/latex": [
       "$\\displaystyle - \\frac{x}{\\left(x^{2} + 1\\right)^{\\frac{3}{2}}}$"
      ],
      "text/plain": [
       "-x/(x**2 + 1)**(3/2)"
      ]
     },
     "metadata": {},
     "output_type": "display_data"
    }
   ],
   "source": [
    "derivative()"
   ]
  },
  {
   "cell_type": "markdown",
   "id": "6ba5ca74-4825-4cba-8290-6d7887549f05",
   "metadata": {},
   "source": [
    "f)"
   ]
  },
  {
   "cell_type": "code",
   "execution_count": 62,
   "id": "1024c403-fcb6-4a71-81a7-df130bff933b",
   "metadata": {},
   "outputs": [
    {
     "data": {
      "text/latex": [
       "$\\displaystyle 6 x^{2} \\left(2 x + 2\\right)^{2} + 2 x \\left(2 x + 2\\right)^{3}$"
      ],
      "text/plain": [
       "6*x**2*(2*x + 2)**2 + 2*x*(2*x + 2)**3"
      ]
     },
     "metadata": {},
     "output_type": "display_data"
    }
   ],
   "source": [
    "f=sp.diff(((x**2) *  sp.diff(x**2 + 2*x)**3))\n",
    "display(f)\n"
   ]
  },
  {
   "cell_type": "markdown",
   "id": "267e5a5f-569e-40f1-ade4-0f019abf3215",
   "metadata": {},
   "source": [
    "g)"
   ]
  },
  {
   "cell_type": "code",
   "execution_count": 98,
   "id": "de08dc01-5eda-46a5-b469-cb8ed4a32f78",
   "metadata": {},
   "outputs": [
    {
     "name": "stdout",
     "output_type": "stream",
     "text": [
      "\n"
     ]
    },
    {
     "name": "stdin",
     "output_type": "stream",
     "text": [
      " x**2*(x**2-2*x)**(1/2)\n"
     ]
    },
    {
     "data": {
      "text/latex": [
       "$\\displaystyle \\frac{x^{2} \\left(x - 1\\right)}{\\sqrt{x^{2} - 2 x}} + 2 x \\sqrt{x^{2} - 2 x}$"
      ],
      "text/plain": [
       "x**2*(x - 1)/sqrt(x**2 - 2*x) + 2*x*sqrt(x**2 - 2*x)"
      ]
     },
     "metadata": {},
     "output_type": "display_data"
    }
   ],
   "source": [
    "derivative()"
   ]
  },
  {
   "cell_type": "markdown",
   "id": "38f58377-1640-44a6-96cf-6a02996c6604",
   "metadata": {},
   "source": [
    "h)"
   ]
  },
  {
   "cell_type": "code",
   "execution_count": 64,
   "id": "822a3082-4428-4009-8b70-71bae32b11f2",
   "metadata": {},
   "outputs": [
    {
     "data": {
      "text/latex": [
       "$\\displaystyle \\frac{x^{2} \\left(- 6 x - 3\\right)}{\\left(x^{2} + x\\right)^{4}} + \\frac{2 x}{\\left(x^{2} + x\\right)^{3}}$"
      ],
      "text/plain": [
       "x**2*(-6*x - 3)/(x**2 + x)**4 + 2*x/(x**2 + x)**3"
      ]
     },
     "metadata": {},
     "output_type": "display_data"
    },
    {
     "data": {
      "text/latex": [
       "$\\displaystyle - \\frac{4 x + 1}{x^{2} \\left(x + 1\\right)^{4}}$"
      ],
      "text/plain": [
       "-(4*x + 1)/(x**2*(x + 1)**4)"
      ]
     },
     "execution_count": 64,
     "metadata": {},
     "output_type": "execute_result"
    }
   ],
   "source": [
    "f=sp.diff((x**2) / ((x**2 + x))**3)\n",
    "display(f)\n",
    "sp.factor(f)"
   ]
  },
  {
   "cell_type": "markdown",
   "id": "b77a3d03-9fba-4421-aa54-19c710bf61ef",
   "metadata": {},
   "source": [
    "i)"
   ]
  },
  {
   "cell_type": "code",
   "execution_count": 65,
   "id": "2b5897b0-09a6-40af-91f1-7d32f04bb639",
   "metadata": {},
   "outputs": [
    {
     "data": {
      "text/latex": [
       "$\\displaystyle 9 x^{2} \\left(x^{2} + 1\\right)^{2} \\left(x^{3} + 1\\right)^{2} + 4 x \\left(x^{2} + 1\\right) \\left(x^{3} + 1\\right)^{3}$"
      ],
      "text/plain": [
       "9*x**2*(x**2 + 1)**2*(x**3 + 1)**2 + 4*x*(x**2 + 1)*(x**3 + 1)**3"
      ]
     },
     "metadata": {},
     "output_type": "display_data"
    },
    {
     "data": {
      "text/latex": [
       "$\\displaystyle x \\left(x^{2} + 1\\right) \\left(x^{3} + 1\\right)^{2} \\left(4 x^{3} + 9 x \\left(x^{2} + 1\\right) + 4\\right)$"
      ],
      "text/plain": [
       "x*(x**2 + 1)*(x**3 + 1)**2*(4*x**3 + 9*x*(x**2 + 1) + 4)"
      ]
     },
     "execution_count": 65,
     "metadata": {},
     "output_type": "execute_result"
    }
   ],
   "source": [
    "f=sp.diff((x**2 + 1)**2 * (x**3 + 1)**3)\n",
    "display(f)\n",
    "sp.simplify(f)"
   ]
  },
  {
   "cell_type": "markdown",
   "id": "202cdbd0-d027-488a-9c10-f56ccb6edb02",
   "metadata": {},
   "source": [
    "OPPGAVE 2 a)"
   ]
  },
  {
   "cell_type": "code",
   "execution_count": 78,
   "id": "6ec5b91d-1ec9-4f53-8db5-2bdc9e00b7d5",
   "metadata": {},
   "outputs": [
    {
     "data": {
      "text/latex": [
       "$\\displaystyle \\frac{0.5 \\left(24 x + 8\\right) \\left(\\left(3 x^{2} + 2 x\\right)^{4}\\right)^{0.5}}{3 x^{2} + 2 x}$"
      ],
      "text/plain": [
       "0.5*(24*x + 8)*((3*x**2 + 2*x)**4)**0.5/(3*x**2 + 2*x)"
      ]
     },
     "metadata": {},
     "output_type": "display_data"
    }
   ],
   "source": [
    "f=sp.diff(((3*x**2 + 2*x)**4)**(1/2))\n",
    "display(f)\n"
   ]
  },
  {
   "cell_type": "markdown",
   "id": "fc908f6d-5bfd-4ce1-81c8-b4146d5749f5",
   "metadata": {},
   "source": [
    "b)"
   ]
  },
  {
   "cell_type": "code",
   "execution_count": 139,
   "id": "159fe0d0-5abf-4abe-84a7-7b1f9b60b6e8",
   "metadata": {},
   "outputs": [
    {
     "name": "stdout",
     "output_type": "stream",
     "text": [
      "\n"
     ]
    },
    {
     "name": "stdin",
     "output_type": "stream",
     "text": [
      " (x**3 + 3)**5 *(x**2+ 3)**4\n"
     ]
    },
    {
     "data": {
      "text/latex": [
       "$\\displaystyle x \\left(x^{2} + 3\\right)^{3} \\left(x^{3} + 3\\right)^{4} \\left(23 x^{3} + 45 x + 24\\right)$"
      ],
      "text/plain": [
       "x*(x**2 + 3)**3*(x**3 + 3)**4*(23*x**3 + 45*x + 24)"
      ]
     },
     "metadata": {},
     "output_type": "display_data"
    }
   ],
   "source": [
    "derivative()"
   ]
  },
  {
   "cell_type": "markdown",
   "id": "076959b0-b4f6-4ae9-8ec6-5b770aa93f9e",
   "metadata": {},
   "source": [
    "c)"
   ]
  },
  {
   "cell_type": "code",
   "execution_count": 112,
   "id": "b8b8cc1b-4229-4881-9f4b-9bfd0982b1a5",
   "metadata": {},
   "outputs": [
    {
     "name": "stdout",
     "output_type": "stream",
     "text": [
      "\n"
     ]
    },
    {
     "name": "stdin",
     "output_type": "stream",
     "text": [
      " (x**2 + 1)**(1/2) *x**2\n"
     ]
    },
    {
     "data": {
      "text/latex": [
       "$\\displaystyle \\frac{x^{3}}{\\sqrt{x^{2} + 1}} + 2 x \\sqrt{x^{2} + 1}$"
      ],
      "text/plain": [
       "x**3/sqrt(x**2 + 1) + 2*x*sqrt(x**2 + 1)"
      ]
     },
     "metadata": {},
     "output_type": "display_data"
    }
   ],
   "source": [
    "derivative()"
   ]
  },
  {
   "cell_type": "markdown",
   "id": "b164c8ca-3c43-4b4b-9f97-578fb650ec36",
   "metadata": {},
   "source": [
    "d)"
   ]
  },
  {
   "cell_type": "code",
   "execution_count": 79,
   "id": "43574a5a-1c19-471e-a76c-565f9fc35e17",
   "metadata": {},
   "outputs": [
    {
     "data": {
      "text/latex": [
       "$\\displaystyle \\frac{\\left(18 x + 6\\right) \\left(3 x^{2} + 2 x\\right)^{2}}{x^{2}} - \\frac{2 \\left(3 x^{2} + 2 x\\right)^{3}}{x^{3}}$"
      ],
      "text/plain": [
       "(18*x + 6)*(3*x**2 + 2*x)**2/x**2 - 2*(3*x**2 + 2*x)**3/x**3"
      ]
     },
     "metadata": {},
     "output_type": "display_data"
    },
    {
     "data": {
      "text/latex": [
       "$\\displaystyle 2 \\left(3 x + 2\\right)^{2} \\left(6 x + 1\\right)$"
      ],
      "text/plain": [
       "2*(3*x + 2)**2*(6*x + 1)"
      ]
     },
     "execution_count": 79,
     "metadata": {},
     "output_type": "execute_result"
    }
   ],
   "source": [
    "#((2*x + 3*x**2)**3) / (x**2)\n",
    "f=sp.diff(((2*x + 3*x**2)**3) / (x**2))\n",
    "display(f)\n",
    "sp.factor(f)"
   ]
  },
  {
   "cell_type": "markdown",
   "id": "742549d8-f3e3-4ba2-858f-e654a1b3abdd",
   "metadata": {},
   "source": [
    "e)"
   ]
  },
  {
   "cell_type": "code",
   "execution_count": 114,
   "id": "4a7d7185-e07a-42b0-86a4-a71d4115d043",
   "metadata": {},
   "outputs": [
    {
     "name": "stdout",
     "output_type": "stream",
     "text": [
      "\n"
     ]
    },
    {
     "name": "stdin",
     "output_type": "stream",
     "text": [
      " (x**4-5)**(1/3)\n"
     ]
    },
    {
     "data": {
      "text/latex": [
       "$\\displaystyle \\frac{4 x^{3}}{3 \\left(x^{4} - 5\\right)^{\\frac{2}{3}}}$"
      ],
      "text/plain": [
       "4*x**3/(3*(x**4 - 5)**(2/3))"
      ]
     },
     "metadata": {},
     "output_type": "display_data"
    }
   ],
   "source": [
    "derivative()"
   ]
  },
  {
   "cell_type": "markdown",
   "id": "f2996852-ec4f-4465-b5de-2c1122bbc146",
   "metadata": {},
   "source": [
    "f)"
   ]
  },
  {
   "cell_type": "code",
   "execution_count": 82,
   "id": "308ddfaf-2c7f-4b2a-be25-92cd8dfad310",
   "metadata": {},
   "outputs": [
    {
     "data": {
      "text/latex": [
       "$\\displaystyle - \\frac{2.0 x^{6}}{\\left(x^{4} - 1\\right)^{1.5}} + \\frac{3 x^{2}}{\\left(x^{4} - 1\\right)^{0.5}}$"
      ],
      "text/plain": [
       "-2.0*x**6*(x**4 - 1)**(-1.5) + 3*x**2*(x**4 - 1)**(-0.5)"
      ]
     },
     "metadata": {},
     "output_type": "display_data"
    },
    {
     "data": {
      "text/latex": [
       "$\\displaystyle - \\frac{2.0 x^{6}}{\\left(x^{4} - 1\\right)^{1.5}} + \\frac{3 x^{2}}{\\left(x^{4} - 1\\right)^{0.5}}$"
      ],
      "text/plain": [
       "-2.0*x**6*(x**4 - 1)**(-1.5) + 3*x**2*(x**4 - 1)**(-0.5)"
      ]
     },
     "execution_count": 82,
     "metadata": {},
     "output_type": "execute_result"
    }
   ],
   "source": [
    "f=sp.diff((x**3) / (x**4-1)**(1/2))\n",
    "display(f)\n",
    "sp.simplify(f)"
   ]
  },
  {
   "cell_type": "markdown",
   "id": "5f40e35d-f72a-4e50-9e00-8a906b478d5f",
   "metadata": {},
   "source": [
    "22 Derivasjon av logaritme- og eksponentialfunksjoner\n",
    "OPPGAVE 1 a)"
   ]
  },
  {
   "cell_type": "code",
   "execution_count": 126,
   "id": "c99b48d0-c8d8-4f0c-8431-f244664b86a1",
   "metadata": {},
   "outputs": [
    {
     "data": {
      "text/latex": [
       "$\\displaystyle \\frac{1}{x}$"
      ],
      "text/plain": [
       "1/x"
      ]
     },
     "metadata": {},
     "output_type": "display_data"
    }
   ],
   "source": [
    "f=sp.diff(sp.ln(5*x))\n",
    "display(f)\n"
   ]
  },
  {
   "cell_type": "markdown",
   "id": "cb4710d8-a234-437b-a0f8-9cc04970e0ea",
   "metadata": {},
   "source": [
    "b)"
   ]
  },
  {
   "cell_type": "code",
   "execution_count": 129,
   "id": "681b9e83-dd73-465e-a6cd-52551ce869c8",
   "metadata": {},
   "outputs": [
    {
     "data": {
      "text/latex": [
       "$\\displaystyle - 2 e^{- 2 x}$"
      ],
      "text/plain": [
       "-2*exp(-2*x)"
      ]
     },
     "metadata": {},
     "output_type": "display_data"
    }
   ],
   "source": [
    "f=sp.diff(sp.exp(-2*x))\n",
    "display(f)"
   ]
  },
  {
   "cell_type": "markdown",
   "id": "b9588af2-1677-456f-8ba9-967d4b9a8f34",
   "metadata": {},
   "source": [
    "c)"
   ]
  },
  {
   "cell_type": "code",
   "execution_count": 4,
   "id": "8229e5e2-0ecd-4183-bb2a-9dc5b5259478",
   "metadata": {},
   "outputs": [
    {
     "name": "stdout",
     "output_type": "stream",
     "text": [
      "\n"
     ]
    },
    {
     "name": "stdin",
     "output_type": "stream",
     "text": [
      " ln(1/x)\n"
     ]
    },
    {
     "data": {
      "text/latex": [
       "$\\displaystyle - \\frac{1}{x}$"
      ],
      "text/plain": [
       "-1/x"
      ]
     },
     "metadata": {},
     "output_type": "display_data"
    }
   ],
   "source": [
    "derivative()"
   ]
  },
  {
   "cell_type": "markdown",
   "id": "01e827b7-80ea-4b75-9412-0705113694c0",
   "metadata": {},
   "source": [
    "d)"
   ]
  },
  {
   "cell_type": "code",
   "execution_count": 158,
   "id": "f350c8aa-ed76-482c-b451-f5892672cda3",
   "metadata": {},
   "outputs": [
    {
     "data": {
      "text/latex": [
       "$\\displaystyle 2^{x} \\log{\\left(2 \\right)}$"
      ],
      "text/plain": [
       "2**x*log(2)"
      ]
     },
     "metadata": {},
     "output_type": "display_data"
    }
   ],
   "source": [
    "f=sp.diff(2**x)\n",
    "display(f)"
   ]
  },
  {
   "cell_type": "markdown",
   "id": "f3a6f527-7d69-47c5-a2e5-4187a5b1c7cf",
   "metadata": {},
   "source": [
    "e)"
   ]
  },
  {
   "cell_type": "code",
   "execution_count": 180,
   "id": "312fec4d-a28b-4180-a11a-c3337fb91228",
   "metadata": {},
   "outputs": [
    {
     "data": {
      "text/latex": [
       "$\\displaystyle 3 e^{3 x + 5}$"
      ],
      "text/plain": [
       "3*exp(3*x + 5)"
      ]
     },
     "metadata": {},
     "output_type": "display_data"
    }
   ],
   "source": [
    "f=sp.diff(sp.exp(3*x+5))\n",
    "display(f)"
   ]
  },
  {
   "cell_type": "markdown",
   "id": "9e9b765d-bb10-41f3-a1f2-2c6cd8031f36",
   "metadata": {},
   "source": [
    "f)"
   ]
  },
  {
   "cell_type": "code",
   "execution_count": 184,
   "id": "5feacd53-ea2b-4142-ac71-098bc1e903bd",
   "metadata": {},
   "outputs": [
    {
     "data": {
      "text/latex": [
       "$\\displaystyle \\frac{5 x^{4}}{x^{5} + 1}$"
      ],
      "text/plain": [
       "5*x**4/(x**5 + 1)"
      ]
     },
     "metadata": {},
     "output_type": "display_data"
    }
   ],
   "source": [
    "f=sp.diff(sp.log(x**5+ 1))\n",
    "display(f)"
   ]
  },
  {
   "cell_type": "markdown",
   "id": "517ee84d-a13f-4aaa-90dc-339a8f75d680",
   "metadata": {},
   "source": [
    "g)"
   ]
  },
  {
   "cell_type": "code",
   "execution_count": 130,
   "id": "7dfd878b-82b1-438c-a417-68d91dd39e24",
   "metadata": {},
   "outputs": [
    {
     "data": {
      "text/latex": [
       "$\\displaystyle \\left(8 x + 8\\right) e^{4 x^{2} + 8 x}$"
      ],
      "text/plain": [
       "(8*x + 8)*exp(4*x**2 + 8*x)"
      ]
     },
     "metadata": {},
     "output_type": "display_data"
    },
    {
     "data": {
      "text/latex": [
       "$\\displaystyle 8 \\left(x + 1\\right) e^{8 x} e^{4 x^{2}}$"
      ],
      "text/plain": [
       "8*(x + 1)*exp(8*x)*exp(4*x**2)"
      ]
     },
     "execution_count": 130,
     "metadata": {},
     "output_type": "execute_result"
    }
   ],
   "source": [
    "f=sp.diff(sp.exp(4*x**2+8*x))\n",
    "display(f)\n",
    "sp.factor(f)"
   ]
  },
  {
   "cell_type": "markdown",
   "id": "a41d4744-255a-4301-872e-0b0203d6e113",
   "metadata": {},
   "source": [
    "h)"
   ]
  },
  {
   "cell_type": "code",
   "execution_count": 129,
   "id": "b2103296-0f09-4125-9795-a29385ea98ea",
   "metadata": {},
   "outputs": [
    {
     "data": {
      "text/latex": [
       "$\\displaystyle \\frac{1}{x}$"
      ],
      "text/plain": [
       "1/x"
      ]
     },
     "metadata": {},
     "output_type": "display_data"
    },
    {
     "data": {
      "text/latex": [
       "$\\displaystyle \\frac{1}{x}$"
      ],
      "text/plain": [
       "1/x"
      ]
     },
     "execution_count": 129,
     "metadata": {},
     "output_type": "execute_result"
    }
   ],
   "source": [
    "f=sp.diff(sp.ln(1*x))\n",
    "display(f)\n"
   ]
  },
  {
   "cell_type": "markdown",
   "id": "a41e3661-dae6-47d4-a389-648ffa31e4f1",
   "metadata": {},
   "source": [
    "i)"
   ]
  },
  {
   "cell_type": "code",
   "execution_count": 39,
   "id": "1d7c1abb-3ac3-4f7c-aca3-5779491d82ea",
   "metadata": {},
   "outputs": [
    {
     "data": {
      "text/latex": [
       "$\\displaystyle 12 e^{4 x} + \\frac{6}{x}$"
      ],
      "text/plain": [
       "12*exp(4*x) + 6/x"
      ]
     },
     "metadata": {},
     "output_type": "display_data"
    }
   ],
   "source": [
    "f=sp.diff(6* sp.ln(x))+sp.diff(3* sp.exp(4*x)) \n",
    "display(f)"
   ]
  },
  {
   "cell_type": "markdown",
   "id": "e3bbe8c2-0cf3-4390-beed-8a5b00157324",
   "metadata": {},
   "source": [
    "j)"
   ]
  },
  {
   "cell_type": "code",
   "execution_count": 128,
   "id": "8fca7e72-4158-4762-86f5-15c9b3af4fcb",
   "metadata": {},
   "outputs": [
    {
     "data": {
      "text/latex": [
       "$\\displaystyle - x e^{- x} + e^{- x}$"
      ],
      "text/plain": [
       "-x*exp(-x) + exp(-x)"
      ]
     },
     "metadata": {},
     "output_type": "display_data"
    },
    {
     "data": {
      "text/latex": [
       "$\\displaystyle - \\left(x - 1\\right) e^{- x}$"
      ],
      "text/plain": [
       "-(x - 1)*exp(-x)"
      ]
     },
     "execution_count": 128,
     "metadata": {},
     "output_type": "execute_result"
    }
   ],
   "source": [
    "f=sp.diff(x* sp.exp(-x))\n",
    "display(f)\n",
    "sp.factor(f)"
   ]
  },
  {
   "cell_type": "markdown",
   "id": "13d5e864-acad-42b7-b5e9-382063157830",
   "metadata": {},
   "source": [
    "k)"
   ]
  },
  {
   "cell_type": "code",
   "execution_count": 56,
   "id": "ebdee1fc-7f64-4af9-9157-795facea47b9",
   "metadata": {},
   "outputs": [
    {
     "data": {
      "text/latex": [
       "$\\displaystyle \\frac{2 x^{3}}{x^{2} + 2} + 2 x \\log{\\left(x^{2} + 2 \\right)}$"
      ],
      "text/plain": [
       "2*x**3/(x**2 + 2) + 2*x*log(x**2 + 2)"
      ]
     },
     "metadata": {},
     "output_type": "display_data"
    }
   ],
   "source": [
    "f=sp.diff(x**2 * sp.ln(x**2 + 2))\n",
    "\n",
    "display(f)"
   ]
  },
  {
   "cell_type": "markdown",
   "id": "add1f135-dd73-4d05-934b-9539dfe4e465",
   "metadata": {},
   "source": [
    "OPPGAVE 2 a)"
   ]
  },
  {
   "cell_type": "code",
   "execution_count": 127,
   "id": "b71824dd-8424-4517-9524-7e59b2cd4ca0",
   "metadata": {},
   "outputs": [
    {
     "data": {
      "text/latex": [
       "$\\displaystyle 2 x^{3} e^{2 x} + 3 x^{2} e^{2 x}$"
      ],
      "text/plain": [
       "2*x**3*exp(2*x) + 3*x**2*exp(2*x)"
      ]
     },
     "metadata": {},
     "output_type": "display_data"
    },
    {
     "data": {
      "text/latex": [
       "$\\displaystyle x^{2} \\left(2 x + 3\\right) e^{2 x}$"
      ],
      "text/plain": [
       "x**2*(2*x + 3)*exp(2*x)"
      ]
     },
     "execution_count": 127,
     "metadata": {},
     "output_type": "execute_result"
    }
   ],
   "source": [
    "f=sp.diff(x**3 * sp.exp(2*x))\n",
    "display(f)\n",
    "sp.factor(f)"
   ]
  },
  {
   "cell_type": "markdown",
   "id": "cf053375-b0c9-44ab-b584-13ba319f9955",
   "metadata": {},
   "source": [
    "b)"
   ]
  },
  {
   "cell_type": "code",
   "execution_count": 126,
   "id": "3fa66180-a318-48ec-94d8-f213b8433c90",
   "metadata": {},
   "outputs": [
    {
     "data": {
      "text/latex": [
       "$\\displaystyle \\frac{\\left(x^{2} + 1\\right) \\left(- \\frac{2 x \\left(x^{2} - 1\\right)}{\\left(x^{2} + 1\\right)^{2}} + \\frac{2 x}{x^{2} + 1}\\right)}{x^{2} - 1}$"
      ],
      "text/plain": [
       "(x**2 + 1)*(-2*x*(x**2 - 1)/(x**2 + 1)**2 + 2*x/(x**2 + 1))/(x**2 - 1)"
      ]
     },
     "metadata": {},
     "output_type": "display_data"
    },
    {
     "data": {
      "text/latex": [
       "$\\displaystyle \\frac{4 x}{\\left(x - 1\\right) \\left(x + 1\\right) \\left(x^{2} + 1\\right)}$"
      ],
      "text/plain": [
       "4*x/((x - 1)*(x + 1)*(x**2 + 1))"
      ]
     },
     "execution_count": 126,
     "metadata": {},
     "output_type": "execute_result"
    }
   ],
   "source": [
    "f=sp.diff(sp.ln((x**2-1) / (x**2+ 1)))\n",
    "display(f)\n",
    "sp.factor(f)"
   ]
  },
  {
   "cell_type": "markdown",
   "id": "a349e7b5-6886-4699-95a8-9bdd526b4bae",
   "metadata": {},
   "source": [
    "c)"
   ]
  },
  {
   "cell_type": "code",
   "execution_count": 120,
   "id": "c533f068-0172-4b60-9dd4-35bfa404bac6",
   "metadata": {},
   "outputs": [
    {
     "data": {
      "text/latex": [
       "$\\displaystyle \\frac{2 x^{3}}{x^{2} + 2} + 2 x \\log{\\left(x^{2} + 2 \\right)}$"
      ],
      "text/plain": [
       "2*x**3/(x**2 + 2) + 2*x*log(x**2 + 2)"
      ]
     },
     "metadata": {},
     "output_type": "display_data"
    }
   ],
   "source": [
    "f=sp.diff(x**2 * sp.ln(x**2+ 2))\n",
    "display(f)"
   ]
  },
  {
   "cell_type": "markdown",
   "id": "4b12ba2f-cb36-4c29-8898-1e9fae3db847",
   "metadata": {},
   "source": [
    "d)"
   ]
  },
  {
   "cell_type": "code",
   "execution_count": 6,
   "id": "9603aaed-099b-4d19-8ae7-b6e478084573",
   "metadata": {},
   "outputs": [
    {
     "data": {
      "text/latex": [
       "$\\displaystyle - \\frac{2 x e^{- x}}{\\left(x^{2} + 1\\right)^{2}} - \\frac{e^{- x}}{x^{2} + 1}$"
      ],
      "text/plain": [
       "-2*x*exp(-x)/(x**2 + 1)**2 - exp(-x)/(x**2 + 1)"
      ]
     },
     "metadata": {},
     "output_type": "display_data"
    }
   ],
   "source": [
    "f=sp.diff((sp.exp(-x) / (x**2 + 1)))\n",
    "display(f)\n",
    "\n"
   ]
  },
  {
   "cell_type": "code",
   "execution_count": null,
   "id": "8e2ff16e-14b6-474c-9564-a6da82a69172",
   "metadata": {},
   "outputs": [],
   "source": []
  }
 ],
 "metadata": {
  "kernelspec": {
   "display_name": "Python 3 (ipykernel)",
   "language": "python",
   "name": "python3"
  },
  "language_info": {
   "codemirror_mode": {
    "name": "ipython",
    "version": 3
   },
   "file_extension": ".py",
   "mimetype": "text/x-python",
   "name": "python",
   "nbconvert_exporter": "python",
   "pygments_lexer": "ipython3",
   "version": "3.9.5"
  }
 },
 "nbformat": 4,
 "nbformat_minor": 5
}
